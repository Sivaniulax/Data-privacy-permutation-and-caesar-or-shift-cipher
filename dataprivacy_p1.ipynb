{
  "nbformat": 4,
  "nbformat_minor": 0,
  "metadata": {
    "colab": {
      "provenance": []
    },
    "kernelspec": {
      "name": "python3",
      "display_name": "Python 3"
    },
    "language_info": {
      "name": "python"
    }
  },
  "cells": [
    {
      "cell_type": "code",
      "execution_count": null,
      "metadata": {
        "colab": {
          "base_uri": "https://localhost:8080/"
        },
        "id": "FLnk58LpsAg9",
        "outputId": "5fe910bd-ee54-4d0c-86fe-c938eff53df9"
      },
      "outputs": [
        {
          "output_type": "stream",
          "name": "stdout",
          "text": [
            "Knxmnslkwjxmbfyjwgjsixfsixfqybfyjwhtfxyxwjbfwixfsdtsjkjjqnslxywjxxji.\n",
            "NQAPQVONZMAPEIBMZJMVLAIVLAITBEIBMZKWIABAZMEIZLAIVGWVMNMMTQVOABZMAAML\n"
          ]
        }
      ],
      "source": [
        "#Caeser or shift cipher\n",
        "import string\n",
        "string = \"Knxmnslkwjxmbfyjwgjsixfsixfqybfyjwhtfxyxwjbfwixfsdtsjkjjqnslxywjxxji.\" #input\n",
        "print(string)\n",
        "string = string.lower()\n",
        "string = string.replace('.','') #add more preprocessing if needed\n",
        "\n",
        "#C = E(k, P) = (P + k) mod 26\n",
        "# i = \"w\"\n",
        "k = 3\n",
        "# print(ord(i)-96)\n",
        "# x = (ord(i)-97 + k) % 26 + 97\n",
        "# print(chr(x))\n",
        "arr = ''\n",
        "for i in range(len(string)):\n",
        "  arr += chr((ord(string[i])-97 + k) % 26 + 97)\n",
        "print(arr.upper())"
      ]
    },
    {
      "cell_type": "code",
      "source": [
        "#permutation cipher for one factor if m,n not given\n",
        "def factors(x):\n",
        "   #print(\"The factors of\",x,\"are:\")\n",
        "  k = []\n",
        "  for i in range(1, x + 1):\n",
        "    if x % i == 0:\n",
        "      k.append(i)\n",
        "  #print(k)\n",
        "  n = int(len(k)/2)\n",
        "  j = []\n",
        "  for i in range(n):\n",
        "    temp = []\n",
        "    temp.extend((k[i],k[len(k)-i-1]))\n",
        "    #print(i+1,\") (\",k[i],\",\",k[len(k)-i-1],\")\")\n",
        "    j.append(temp)\n",
        "  print(j)\n",
        "  print(\"n = \",j[-1][-1])\n",
        "  print(\"m = \",j[-1][-2])\n",
        "  return j[-1][-1],j[-1][-2]\n",
        "\n",
        "txt = \"MYAMRARUYIQTENCTORAHROYWDSOYEOUARRGDERNOGW\"  #input\n",
        "print(txt)\n",
        "print(len(txt))\n",
        "n,m = factors(len(txt)) #mention m and n if given\n",
        "permu = []\n",
        "l = 0\n",
        "temp = ''\n",
        "for i in range(len(txt)):\n",
        "  l += 1\n",
        "  if (i+1) % m == 0:\n",
        "    print(txt[i])\n",
        "    temp+=txt[i]\n",
        "  else:\n",
        "    print(txt[i],end = '')\n",
        "    temp +=txt[i]\n",
        "  if l == 7:\n",
        "    l = 0\n",
        "    permu.append(temp)\n",
        "    temp = \"\"\n",
        "\n",
        "print(permu)\n",
        "encryp = ''\n",
        "for i in range(n):\n",
        "  for j in range(m):\n",
        "    encryp += permu[j][i]\n",
        "print(encryp)"
      ],
      "metadata": {
        "colab": {
          "base_uri": "https://localhost:8080/"
        },
        "id": "DVLOladwxjHG",
        "outputId": "3ecb0b23-9b2c-45a4-b1b3-28cd89f38787"
      },
      "execution_count": null,
      "outputs": [
        {
          "output_type": "stream",
          "name": "stdout",
          "text": [
            "MYAMRARUYIQTENCTORAHROYWDSOYEOUARRGDERNOGW\n",
            "42\n",
            "[[1, 42], [2, 21], [3, 14], [6, 7]]\n",
            "n =  7\n",
            "m =  6\n",
            "MYAMRA\n",
            "RUYIQT\n",
            "ENCTOR\n",
            "AHROYW\n",
            "DSOYEO\n",
            "UARRGD\n",
            "ERNOGW\n",
            "['MYAMRAR', 'UYIQTEN', 'CTORAHR', 'OYWDSOY', 'EOUARRG', 'DERNOGW']\n",
            "MUCOEDYYTYOEAIOWURMQRDANRTASROAEHORGRNRYGW\n"
          ]
        }
      ]
    },
    {
      "cell_type": "code",
      "source": [
        "#permutation cipher with all factors if m,n not given\n",
        "def factors(x):\n",
        "   #print(\"The factors of\",x,\"are:\")\n",
        "  k = []\n",
        "  for i in range(1, x + 1):\n",
        "    if x % i == 0:\n",
        "      k.append(i)\n",
        "  #print(k)\n",
        "  n = int(len(k)/2)\n",
        "  j = []\n",
        "  for i in range(n):\n",
        "    temp = []\n",
        "    temp.extend((k[i],k[len(k)-i-1]))\n",
        "    #print(i+1,\") (\",k[i],\",\",k[len(k)-i-1],\")\")\n",
        "    j.append(temp)\n",
        "  print(j)\n",
        "  #print(\"n = \",j[-1][-1])\n",
        "  #print(\"m = \",j[-1][-2])\n",
        "  #return j[-1][-1],j[-1][-2]\n",
        "  return j\n",
        "\n",
        "txt = \"MYAMRARUYIQTENCTORAHROYWDSOYEOUARRGDERNOGW\"\n",
        "print(txt)\n",
        "print(len(txt))\n",
        "fac = factors(len(txt))\n",
        "\n",
        "for f in range(1,len(fac)):\n",
        "  n,m = fac[f]\n",
        "  print(n,m)\n",
        "\n",
        "\n",
        "\n",
        "  permu = []\n",
        "  l = 0\n",
        "  temp = ''\n",
        "  for i in range(len(txt)):\n",
        "    l += 1\n",
        "    if (i+1) % m == 0:\n",
        "      print(txt[i])\n",
        "      temp+=txt[i]\n",
        "    else:\n",
        "      print(txt[i],end = '')\n",
        "      temp +=txt[i]\n",
        "    if l == n:\n",
        "      l = 0\n",
        "      permu.append(temp)\n",
        "      temp = \"\"\n",
        "\n",
        "  print(permu)\n",
        "  encryp = ''\n",
        "  for i in range(n):\n",
        "    for j in range(m):\n",
        "      encryp += permu[j][i]\n",
        "  print(encryp)"
      ],
      "metadata": {
        "colab": {
          "base_uri": "https://localhost:8080/"
        },
        "id": "Qh8EB55h735o",
        "outputId": "f336cd12-98a9-4a91-e32d-b2417f2b15f2"
      },
      "execution_count": null,
      "outputs": [
        {
          "output_type": "stream",
          "name": "stdout",
          "text": [
            "MYAMRARUYIQTENCTORAHROYWDSOYEOUARRGDERNOGW\n",
            "42\n",
            "[[1, 42], [2, 21], [3, 14], [6, 7]]\n",
            "2 21\n",
            "MYAMRARUYIQTENCTORAHR\n",
            "OYWDSOYEOUARRGDERNOGW\n",
            "['MY', 'AM', 'RA', 'RU', 'YI', 'QT', 'EN', 'CT', 'OR', 'AH', 'RO', 'YW', 'DS', 'OY', 'EO', 'UA', 'RR', 'GD', 'ER', 'NO', 'GW']\n",
            "MARRYQECOARYDOEURGENGYMAUITNTRHOWSYOARDROW\n",
            "3 14\n",
            "MYAMRARUYIQTEN\n",
            "CTORAHROYWDSOY\n",
            "EOUARRGDERNOGW\n",
            "['MYA', 'MRA', 'RUY', 'IQT', 'ENC', 'TOR', 'AHR', 'OYW', 'DSO', 'YEO', 'UAR', 'RGD', 'ERN', 'OGW']\n",
            "MMRIETAODYUREOYRUQNOHYSEAGRGAAYTCRRWOORDNW\n",
            "6 7\n",
            "MYAMRAR\n",
            "UYIQTEN\n",
            "CTORAHR\n",
            "OYWDSOY\n",
            "EOUARRG\n",
            "DERNOGW\n",
            "['MYAMRA', 'RUYIQT', 'ENCTOR', 'AHROYW', 'DSOYEO', 'UARRGD', 'ERNOGW']\n",
            "MREADUEYUNHSARAYCRORNMITOYRORQOYEGGATRWODW\n"
          ]
        }
      ]
    }
  ]
}